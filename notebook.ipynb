{
 "cells": [
  {
   "cell_type": "code",
   "execution_count": 2,
   "id": "77389990",
   "metadata": {},
   "outputs": [],
   "source": [
    "import pandas as pd\n",
    "import matplotlib.pyplot as plt\n",
    "import seaborn as sns"
   ]
  },
  {
   "cell_type": "code",
   "execution_count": 3,
   "id": "b5f80d69",
   "metadata": {},
   "outputs": [
    {
     "data": {
      "application/vnd.microsoft.datawrangler.viewer.v0+json": {
       "columns": [
        {
         "name": "index",
         "rawType": "int64",
         "type": "integer"
        },
        {
         "name": "Player",
         "rawType": "object",
         "type": "string"
        },
        {
         "name": "Country",
         "rawType": "object",
         "type": "string"
        },
        {
         "name": "Age",
         "rawType": "int64",
         "type": "integer"
        },
        {
         "name": "Attack",
         "rawType": "float64",
         "type": "float"
        },
        {
         "name": "Block",
         "rawType": "float64",
         "type": "float"
        },
        {
         "name": "Serve",
         "rawType": "float64",
         "type": "float"
        },
        {
         "name": "Set",
         "rawType": "float64",
         "type": "float"
        },
        {
         "name": "Dig",
         "rawType": "float64",
         "type": "float"
        },
        {
         "name": "Receive",
         "rawType": "float64",
         "type": "float"
        },
        {
         "name": "Position",
         "rawType": "object",
         "type": "string"
        }
       ],
       "ref": "c1e99f12-7b9e-4867-9ec6-049a548d6cfa",
       "rows": [
        [
         "0",
         "Ichikawa Yuki",
         "Japan",
         "28",
         "15.8",
         "1.13",
         "1.4",
         "0.07",
         "4.8",
         "5.6",
         "OH"
        ],
        [
         "1",
         "Romano Yuri",
         "Italy",
         "26",
         "12.33",
         "1.07",
         "1.47",
         "0.0",
         "3.87",
         "0.0",
         "OP"
        ],
        [
         "2",
         "Abdel-Aziz Nimir",
         "Nederland",
         "31",
         "15.33",
         "0.67",
         "2.08",
         "0.0",
         "3.17",
         "0.25",
         "OP"
        ],
        [
         "3",
         "Herrera Jaime Jesus",
         "Cuba",
         "28",
         "15.0",
         "0.92",
         "1.75",
         "0.0",
         "3.33",
         "0.17",
         "OP"
        ],
        [
         "4",
         "Takahashi Ran",
         "Japan",
         "22",
         "11.53",
         "0.67",
         "1.0",
         "0.07",
         "6.4",
         "5.07",
         "OH"
        ]
       ],
       "shape": {
        "columns": 10,
        "rows": 5
       }
      },
      "text/html": [
       "<div>\n",
       "<style scoped>\n",
       "    .dataframe tbody tr th:only-of-type {\n",
       "        vertical-align: middle;\n",
       "    }\n",
       "\n",
       "    .dataframe tbody tr th {\n",
       "        vertical-align: top;\n",
       "    }\n",
       "\n",
       "    .dataframe thead th {\n",
       "        text-align: right;\n",
       "    }\n",
       "</style>\n",
       "<table border=\"1\" class=\"dataframe\">\n",
       "  <thead>\n",
       "    <tr style=\"text-align: right;\">\n",
       "      <th></th>\n",
       "      <th>Player</th>\n",
       "      <th>Country</th>\n",
       "      <th>Age</th>\n",
       "      <th>Attack</th>\n",
       "      <th>Block</th>\n",
       "      <th>Serve</th>\n",
       "      <th>Set</th>\n",
       "      <th>Dig</th>\n",
       "      <th>Receive</th>\n",
       "      <th>Position</th>\n",
       "    </tr>\n",
       "  </thead>\n",
       "  <tbody>\n",
       "    <tr>\n",
       "      <th>0</th>\n",
       "      <td>Ichikawa Yuki</td>\n",
       "      <td>Japan</td>\n",
       "      <td>28</td>\n",
       "      <td>15.80</td>\n",
       "      <td>1.13</td>\n",
       "      <td>1.40</td>\n",
       "      <td>0.07</td>\n",
       "      <td>4.80</td>\n",
       "      <td>5.60</td>\n",
       "      <td>OH</td>\n",
       "    </tr>\n",
       "    <tr>\n",
       "      <th>1</th>\n",
       "      <td>Romano Yuri</td>\n",
       "      <td>Italy</td>\n",
       "      <td>26</td>\n",
       "      <td>12.33</td>\n",
       "      <td>1.07</td>\n",
       "      <td>1.47</td>\n",
       "      <td>0.00</td>\n",
       "      <td>3.87</td>\n",
       "      <td>0.00</td>\n",
       "      <td>OP</td>\n",
       "    </tr>\n",
       "    <tr>\n",
       "      <th>2</th>\n",
       "      <td>Abdel-Aziz Nimir</td>\n",
       "      <td>Nederland</td>\n",
       "      <td>31</td>\n",
       "      <td>15.33</td>\n",
       "      <td>0.67</td>\n",
       "      <td>2.08</td>\n",
       "      <td>0.00</td>\n",
       "      <td>3.17</td>\n",
       "      <td>0.25</td>\n",
       "      <td>OP</td>\n",
       "    </tr>\n",
       "    <tr>\n",
       "      <th>3</th>\n",
       "      <td>Herrera Jaime Jesus</td>\n",
       "      <td>Cuba</td>\n",
       "      <td>28</td>\n",
       "      <td>15.00</td>\n",
       "      <td>0.92</td>\n",
       "      <td>1.75</td>\n",
       "      <td>0.00</td>\n",
       "      <td>3.33</td>\n",
       "      <td>0.17</td>\n",
       "      <td>OP</td>\n",
       "    </tr>\n",
       "    <tr>\n",
       "      <th>4</th>\n",
       "      <td>Takahashi Ran</td>\n",
       "      <td>Japan</td>\n",
       "      <td>22</td>\n",
       "      <td>11.53</td>\n",
       "      <td>0.67</td>\n",
       "      <td>1.00</td>\n",
       "      <td>0.07</td>\n",
       "      <td>6.40</td>\n",
       "      <td>5.07</td>\n",
       "      <td>OH</td>\n",
       "    </tr>\n",
       "  </tbody>\n",
       "</table>\n",
       "</div>"
      ],
      "text/plain": [
       "                Player    Country  Age  Attack  Block  Serve   Set   Dig  \\\n",
       "0        Ichikawa Yuki      Japan   28   15.80   1.13   1.40  0.07  4.80   \n",
       "1          Romano Yuri      Italy   26   12.33   1.07   1.47  0.00  3.87   \n",
       "2     Abdel-Aziz Nimir  Nederland   31   15.33   0.67   2.08  0.00  3.17   \n",
       "3  Herrera Jaime Jesus       Cuba   28   15.00   0.92   1.75  0.00  3.33   \n",
       "4        Takahashi Ran      Japan   22   11.53   0.67   1.00  0.07  6.40   \n",
       "\n",
       "   Receive Position  \n",
       "0     5.60       OH  \n",
       "1     0.00       OP  \n",
       "2     0.25       OP  \n",
       "3     0.17       OP  \n",
       "4     5.07       OH  "
      ]
     },
     "execution_count": 3,
     "metadata": {},
     "output_type": "execute_result"
    }
   ],
   "source": [
    "df = pd.read_csv(\"VNL2023.csv\")\n",
    "df.head()"
   ]
  },
  {
   "cell_type": "code",
   "execution_count": 4,
   "id": "0f306eae",
   "metadata": {},
   "outputs": [
    {
     "data": {
      "text/plain": [
       "(131, 10)"
      ]
     },
     "execution_count": 4,
     "metadata": {},
     "output_type": "execute_result"
    }
   ],
   "source": [
    "df.shape"
   ]
  },
  {
   "cell_type": "code",
   "execution_count": 6,
   "id": "4a2f8995",
   "metadata": {},
   "outputs": [
    {
     "data": {
      "application/vnd.microsoft.datawrangler.viewer.v0+json": {
       "columns": [
        {
         "name": "index",
         "rawType": "object",
         "type": "string"
        },
        {
         "name": "Age",
         "rawType": "float64",
         "type": "float"
        },
        {
         "name": "Attack",
         "rawType": "float64",
         "type": "float"
        },
        {
         "name": "Block",
         "rawType": "float64",
         "type": "float"
        },
        {
         "name": "Serve",
         "rawType": "float64",
         "type": "float"
        },
        {
         "name": "Set",
         "rawType": "float64",
         "type": "float"
        },
        {
         "name": "Dig",
         "rawType": "float64",
         "type": "float"
        },
        {
         "name": "Receive",
         "rawType": "float64",
         "type": "float"
        }
       ],
       "ref": "53b98bcc-d0ca-4f7f-916e-173e21e7cd7e",
       "rows": [
        [
         "count",
         "131.0",
         "131.0",
         "131.0",
         "131.0",
         "131.0",
         "131.0",
         "131.0"
        ],
        [
         "mean",
         "27.80916030534351",
         "5.642671755725191",
         "0.8455725190839695",
         "0.5358015267175572",
         "2.1925954198473283",
         "3.4283969465648854",
         "1.6841984732824427"
        ],
        [
         "std",
         "4.186267850993097",
         "4.256229249252924",
         "0.7008963056251541",
         "0.4543464523542382",
         "6.03158667577309",
         "2.0778231274373873",
         "1.9899385201939026"
        ],
        [
         "min",
         "19.0",
         "0.0",
         "0.0",
         "0.0",
         "0.0",
         "0.53",
         "0.0"
        ],
        [
         "25%",
         "25.0",
         "2.8",
         "0.37",
         "0.24",
         "0.0",
         "1.92",
         "0.0"
        ],
        [
         "50%",
         "27.0",
         "5.17",
         "0.69",
         "0.42",
         "0.0",
         "3.0",
         "0.33"
        ],
        [
         "75%",
         "30.0",
         "8.6",
         "1.14",
         "0.76",
         "0.0",
         "4.51",
         "3.385"
        ],
        [
         "max",
         "41.0",
         "15.8",
         "4.08",
         "2.08",
         "26.89",
         "11.44",
         "6.69"
        ]
       ],
       "shape": {
        "columns": 7,
        "rows": 8
       }
      },
      "text/html": [
       "<div>\n",
       "<style scoped>\n",
       "    .dataframe tbody tr th:only-of-type {\n",
       "        vertical-align: middle;\n",
       "    }\n",
       "\n",
       "    .dataframe tbody tr th {\n",
       "        vertical-align: top;\n",
       "    }\n",
       "\n",
       "    .dataframe thead th {\n",
       "        text-align: right;\n",
       "    }\n",
       "</style>\n",
       "<table border=\"1\" class=\"dataframe\">\n",
       "  <thead>\n",
       "    <tr style=\"text-align: right;\">\n",
       "      <th></th>\n",
       "      <th>Age</th>\n",
       "      <th>Attack</th>\n",
       "      <th>Block</th>\n",
       "      <th>Serve</th>\n",
       "      <th>Set</th>\n",
       "      <th>Dig</th>\n",
       "      <th>Receive</th>\n",
       "    </tr>\n",
       "  </thead>\n",
       "  <tbody>\n",
       "    <tr>\n",
       "      <th>count</th>\n",
       "      <td>131.000000</td>\n",
       "      <td>131.000000</td>\n",
       "      <td>131.000000</td>\n",
       "      <td>131.000000</td>\n",
       "      <td>131.000000</td>\n",
       "      <td>131.000000</td>\n",
       "      <td>131.000000</td>\n",
       "    </tr>\n",
       "    <tr>\n",
       "      <th>mean</th>\n",
       "      <td>27.809160</td>\n",
       "      <td>5.642672</td>\n",
       "      <td>0.845573</td>\n",
       "      <td>0.535802</td>\n",
       "      <td>2.192595</td>\n",
       "      <td>3.428397</td>\n",
       "      <td>1.684198</td>\n",
       "    </tr>\n",
       "    <tr>\n",
       "      <th>std</th>\n",
       "      <td>4.186268</td>\n",
       "      <td>4.256229</td>\n",
       "      <td>0.700896</td>\n",
       "      <td>0.454346</td>\n",
       "      <td>6.031587</td>\n",
       "      <td>2.077823</td>\n",
       "      <td>1.989939</td>\n",
       "    </tr>\n",
       "    <tr>\n",
       "      <th>min</th>\n",
       "      <td>19.000000</td>\n",
       "      <td>0.000000</td>\n",
       "      <td>0.000000</td>\n",
       "      <td>0.000000</td>\n",
       "      <td>0.000000</td>\n",
       "      <td>0.530000</td>\n",
       "      <td>0.000000</td>\n",
       "    </tr>\n",
       "    <tr>\n",
       "      <th>25%</th>\n",
       "      <td>25.000000</td>\n",
       "      <td>2.800000</td>\n",
       "      <td>0.370000</td>\n",
       "      <td>0.240000</td>\n",
       "      <td>0.000000</td>\n",
       "      <td>1.920000</td>\n",
       "      <td>0.000000</td>\n",
       "    </tr>\n",
       "    <tr>\n",
       "      <th>50%</th>\n",
       "      <td>27.000000</td>\n",
       "      <td>5.170000</td>\n",
       "      <td>0.690000</td>\n",
       "      <td>0.420000</td>\n",
       "      <td>0.000000</td>\n",
       "      <td>3.000000</td>\n",
       "      <td>0.330000</td>\n",
       "    </tr>\n",
       "    <tr>\n",
       "      <th>75%</th>\n",
       "      <td>30.000000</td>\n",
       "      <td>8.600000</td>\n",
       "      <td>1.140000</td>\n",
       "      <td>0.760000</td>\n",
       "      <td>0.000000</td>\n",
       "      <td>4.510000</td>\n",
       "      <td>3.385000</td>\n",
       "    </tr>\n",
       "    <tr>\n",
       "      <th>max</th>\n",
       "      <td>41.000000</td>\n",
       "      <td>15.800000</td>\n",
       "      <td>4.080000</td>\n",
       "      <td>2.080000</td>\n",
       "      <td>26.890000</td>\n",
       "      <td>11.440000</td>\n",
       "      <td>6.690000</td>\n",
       "    </tr>\n",
       "  </tbody>\n",
       "</table>\n",
       "</div>"
      ],
      "text/plain": [
       "              Age      Attack       Block       Serve         Set         Dig  \\\n",
       "count  131.000000  131.000000  131.000000  131.000000  131.000000  131.000000   \n",
       "mean    27.809160    5.642672    0.845573    0.535802    2.192595    3.428397   \n",
       "std      4.186268    4.256229    0.700896    0.454346    6.031587    2.077823   \n",
       "min     19.000000    0.000000    0.000000    0.000000    0.000000    0.530000   \n",
       "25%     25.000000    2.800000    0.370000    0.240000    0.000000    1.920000   \n",
       "50%     27.000000    5.170000    0.690000    0.420000    0.000000    3.000000   \n",
       "75%     30.000000    8.600000    1.140000    0.760000    0.000000    4.510000   \n",
       "max     41.000000   15.800000    4.080000    2.080000   26.890000   11.440000   \n",
       "\n",
       "          Receive  \n",
       "count  131.000000  \n",
       "mean     1.684198  \n",
       "std      1.989939  \n",
       "min      0.000000  \n",
       "25%      0.000000  \n",
       "50%      0.330000  \n",
       "75%      3.385000  \n",
       "max      6.690000  "
      ]
     },
     "execution_count": 6,
     "metadata": {},
     "output_type": "execute_result"
    }
   ],
   "source": [
    "df.describe()"
   ]
  },
  {
   "cell_type": "code",
   "execution_count": null,
   "id": "efc035c9",
   "metadata": {},
   "outputs": [
    {
     "data": {
      "application/vnd.microsoft.datawrangler.viewer.v0+json": {
       "columns": [
        {
         "name": "index",
         "rawType": "object",
         "type": "string"
        },
        {
         "name": "0",
         "rawType": "int64",
         "type": "integer"
        }
       ],
       "ref": "fe58c25d-d180-45bc-a45f-a5e351f918fd",
       "rows": [
        [
         "Player",
         "0"
        ],
        [
         "Country",
         "0"
        ],
        [
         "Age",
         "0"
        ],
        [
         "Attack",
         "0"
        ],
        [
         "Block",
         "0"
        ],
        [
         "Serve",
         "0"
        ],
        [
         "Set",
         "0"
        ],
        [
         "Dig",
         "0"
        ],
        [
         "Receive",
         "0"
        ],
        [
         "Position",
         "0"
        ]
       ],
       "shape": {
        "columns": 1,
        "rows": 10
       }
      },
      "text/plain": [
       "Player      0\n",
       "Country     0\n",
       "Age         0\n",
       "Attack      0\n",
       "Block       0\n",
       "Serve       0\n",
       "Set         0\n",
       "Dig         0\n",
       "Receive     0\n",
       "Position    0\n",
       "dtype: int64"
      ]
     },
     "execution_count": 8,
     "metadata": {},
     "output_type": "execute_result"
    }
   ],
   "source": [
    "df.isna().sum()   #no null values available which is a good thing"
   ]
  }
 ],
 "metadata": {
  "kernelspec": {
   "display_name": "base",
   "language": "python",
   "name": "python3"
  },
  "language_info": {
   "codemirror_mode": {
    "name": "ipython",
    "version": 3
   },
   "file_extension": ".py",
   "mimetype": "text/x-python",
   "name": "python",
   "nbconvert_exporter": "python",
   "pygments_lexer": "ipython3",
   "version": "3.12.7"
  }
 },
 "nbformat": 4,
 "nbformat_minor": 5
}
